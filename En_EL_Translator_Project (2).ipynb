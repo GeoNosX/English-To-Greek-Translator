{
  "nbformat": 4,
  "nbformat_minor": 0,
  "metadata": {
    "colab": {
      "provenance": [],
      "gpuType": "T4"
    },
    "kernelspec": {
      "name": "python3",
      "display_name": "Python 3"
    },
    "language_info": {
      "name": "python"
    },
    "accelerator": "GPU"
  },
  "cells": [
    {
      "cell_type": "markdown",
      "source": [
        "# Data Loading And Preproces"
      ],
      "metadata": {
        "id": "hwgLtMpu6Da6"
      }
    },
    {
      "cell_type": "code",
      "source": [
        "!pip install datasets\n",
        "\n",
        "\n"
      ],
      "metadata": {
        "colab": {
          "base_uri": "https://localhost:8080/"
        },
        "id": "oYHfOoqByAzM",
        "outputId": "4af1cdc7-236d-470d-a861-d8aa1a93bce1"
      },
      "execution_count": 121,
      "outputs": [
        {
          "output_type": "stream",
          "name": "stdout",
          "text": [
            "Requirement already satisfied: datasets in /usr/local/lib/python3.11/dist-packages (4.0.0)\n",
            "Requirement already satisfied: filelock in /usr/local/lib/python3.11/dist-packages (from datasets) (3.18.0)\n",
            "Requirement already satisfied: numpy>=1.17 in /usr/local/lib/python3.11/dist-packages (from datasets) (2.0.2)\n",
            "Requirement already satisfied: pyarrow>=15.0.0 in /usr/local/lib/python3.11/dist-packages (from datasets) (18.1.0)\n",
            "Requirement already satisfied: dill<0.3.9,>=0.3.0 in /usr/local/lib/python3.11/dist-packages (from datasets) (0.3.8)\n",
            "Requirement already satisfied: pandas in /usr/local/lib/python3.11/dist-packages (from datasets) (2.2.2)\n",
            "Requirement already satisfied: requests>=2.32.2 in /usr/local/lib/python3.11/dist-packages (from datasets) (2.32.3)\n",
            "Requirement already satisfied: tqdm>=4.66.3 in /usr/local/lib/python3.11/dist-packages (from datasets) (4.67.1)\n",
            "Requirement already satisfied: xxhash in /usr/local/lib/python3.11/dist-packages (from datasets) (3.5.0)\n",
            "Requirement already satisfied: multiprocess<0.70.17 in /usr/local/lib/python3.11/dist-packages (from datasets) (0.70.16)\n",
            "Requirement already satisfied: fsspec<=2025.3.0,>=2023.1.0 in /usr/local/lib/python3.11/dist-packages (from fsspec[http]<=2025.3.0,>=2023.1.0->datasets) (2025.3.0)\n",
            "Requirement already satisfied: huggingface-hub>=0.24.0 in /usr/local/lib/python3.11/dist-packages (from datasets) (0.34.4)\n",
            "Requirement already satisfied: packaging in /usr/local/lib/python3.11/dist-packages (from datasets) (25.0)\n",
            "Requirement already satisfied: pyyaml>=5.1 in /usr/local/lib/python3.11/dist-packages (from datasets) (6.0.2)\n",
            "Requirement already satisfied: aiohttp!=4.0.0a0,!=4.0.0a1 in /usr/local/lib/python3.11/dist-packages (from fsspec[http]<=2025.3.0,>=2023.1.0->datasets) (3.12.15)\n",
            "Requirement already satisfied: typing-extensions>=3.7.4.3 in /usr/local/lib/python3.11/dist-packages (from huggingface-hub>=0.24.0->datasets) (4.14.1)\n",
            "Requirement already satisfied: hf-xet<2.0.0,>=1.1.3 in /usr/local/lib/python3.11/dist-packages (from huggingface-hub>=0.24.0->datasets) (1.1.7)\n",
            "Requirement already satisfied: charset-normalizer<4,>=2 in /usr/local/lib/python3.11/dist-packages (from requests>=2.32.2->datasets) (3.4.3)\n",
            "Requirement already satisfied: idna<4,>=2.5 in /usr/local/lib/python3.11/dist-packages (from requests>=2.32.2->datasets) (3.10)\n",
            "Requirement already satisfied: urllib3<3,>=1.21.1 in /usr/local/lib/python3.11/dist-packages (from requests>=2.32.2->datasets) (2.5.0)\n",
            "Requirement already satisfied: certifi>=2017.4.17 in /usr/local/lib/python3.11/dist-packages (from requests>=2.32.2->datasets) (2025.8.3)\n",
            "Requirement already satisfied: python-dateutil>=2.8.2 in /usr/local/lib/python3.11/dist-packages (from pandas->datasets) (2.9.0.post0)\n",
            "Requirement already satisfied: pytz>=2020.1 in /usr/local/lib/python3.11/dist-packages (from pandas->datasets) (2025.2)\n",
            "Requirement already satisfied: tzdata>=2022.7 in /usr/local/lib/python3.11/dist-packages (from pandas->datasets) (2025.2)\n",
            "Requirement already satisfied: aiohappyeyeballs>=2.5.0 in /usr/local/lib/python3.11/dist-packages (from aiohttp!=4.0.0a0,!=4.0.0a1->fsspec[http]<=2025.3.0,>=2023.1.0->datasets) (2.6.1)\n",
            "Requirement already satisfied: aiosignal>=1.4.0 in /usr/local/lib/python3.11/dist-packages (from aiohttp!=4.0.0a0,!=4.0.0a1->fsspec[http]<=2025.3.0,>=2023.1.0->datasets) (1.4.0)\n",
            "Requirement already satisfied: attrs>=17.3.0 in /usr/local/lib/python3.11/dist-packages (from aiohttp!=4.0.0a0,!=4.0.0a1->fsspec[http]<=2025.3.0,>=2023.1.0->datasets) (25.3.0)\n",
            "Requirement already satisfied: frozenlist>=1.1.1 in /usr/local/lib/python3.11/dist-packages (from aiohttp!=4.0.0a0,!=4.0.0a1->fsspec[http]<=2025.3.0,>=2023.1.0->datasets) (1.7.0)\n",
            "Requirement already satisfied: multidict<7.0,>=4.5 in /usr/local/lib/python3.11/dist-packages (from aiohttp!=4.0.0a0,!=4.0.0a1->fsspec[http]<=2025.3.0,>=2023.1.0->datasets) (6.6.4)\n",
            "Requirement already satisfied: propcache>=0.2.0 in /usr/local/lib/python3.11/dist-packages (from aiohttp!=4.0.0a0,!=4.0.0a1->fsspec[http]<=2025.3.0,>=2023.1.0->datasets) (0.3.2)\n",
            "Requirement already satisfied: yarl<2.0,>=1.17.0 in /usr/local/lib/python3.11/dist-packages (from aiohttp!=4.0.0a0,!=4.0.0a1->fsspec[http]<=2025.3.0,>=2023.1.0->datasets) (1.20.1)\n",
            "Requirement already satisfied: six>=1.5 in /usr/local/lib/python3.11/dist-packages (from python-dateutil>=2.8.2->pandas->datasets) (1.17.0)\n"
          ]
        }
      ]
    },
    {
      "cell_type": "code",
      "execution_count": 122,
      "metadata": {
        "id": "uqYFpDGCwrGU"
      },
      "outputs": [],
      "source": [
        "import tensorflow as tf\n",
        "from pathlib import Path\n",
        "import numpy as np\n",
        "import datasets\n",
        "import matplotlib.pyplot as plt"
      ]
    },
    {
      "cell_type": "code",
      "source": [
        "from datasets import load_dataset\n",
        "#datasets.config.DOWNLOAD_TIMEOUT = 120\n",
        "\n",
        "dataset = load_dataset(\"opus100\", \"el-en\")\n",
        "\n",
        "\n"
      ],
      "metadata": {
        "id": "FCGAPSZbw41r"
      },
      "execution_count": 123,
      "outputs": []
    },
    {
      "cell_type": "code",
      "source": [
        "print(dataset[\"train\"][1])"
      ],
      "metadata": {
        "colab": {
          "base_uri": "https://localhost:8080/"
        },
        "id": "_6lm3XDVzVce",
        "outputId": "d8b875fd-1aab-4575-95c7-0fb0b0b6d0cb"
      },
      "execution_count": 124,
      "outputs": [
        {
          "output_type": "stream",
          "name": "stdout",
          "text": [
            "{'translation': {'el': '- Αν εσύ...', 'en': '- If you...'}}\n"
          ]
        }
      ]
    },
    {
      "cell_type": "code",
      "source": [
        "dataset\n"
      ],
      "metadata": {
        "colab": {
          "base_uri": "https://localhost:8080/"
        },
        "id": "ifo6BqXO1QbD",
        "outputId": "bcdff9c2-e191-4300-b880-1ba11a355cbe"
      },
      "execution_count": 125,
      "outputs": [
        {
          "output_type": "execute_result",
          "data": {
            "text/plain": [
              "DatasetDict({\n",
              "    test: Dataset({\n",
              "        features: ['translation'],\n",
              "        num_rows: 2000\n",
              "    })\n",
              "    train: Dataset({\n",
              "        features: ['translation'],\n",
              "        num_rows: 1000000\n",
              "    })\n",
              "    validation: Dataset({\n",
              "        features: ['translation'],\n",
              "        num_rows: 2000\n",
              "    })\n",
              "})"
            ]
          },
          "metadata": {},
          "execution_count": 125
        }
      ]
    },
    {
      "cell_type": "code",
      "source": [],
      "metadata": {
        "id": "eyh1UZkW8Igf"
      },
      "execution_count": 125,
      "outputs": []
    },
    {
      "cell_type": "code",
      "source": [
        "len(dataset['train']['translation'])"
      ],
      "metadata": {
        "colab": {
          "base_uri": "https://localhost:8080/"
        },
        "id": "M9IUwSUv8JXf",
        "outputId": "ad9f8707-a2a0-4f80-e802-59f238bb24de"
      },
      "execution_count": 126,
      "outputs": [
        {
          "output_type": "execute_result",
          "data": {
            "text/plain": [
              "1000000"
            ]
          },
          "metadata": {},
          "execution_count": 126
        }
      ]
    },
    {
      "cell_type": "code",
      "source": [
        "greek=[item['el'] for item in dataset['train']['translation'][:100000]]# I took smaler data set because it didn't load into colab\n",
        "eng=[item['en'] for item in dataset['train']['translation'][:100000]]"
      ],
      "metadata": {
        "id": "4W6qb14Yzyx9"
      },
      "execution_count": 127,
      "outputs": []
    },
    {
      "cell_type": "code",
      "source": [
        "greek=np.array(greek)\n",
        "eng=np.array(eng)"
      ],
      "metadata": {
        "id": "38O4TdYL-8wV"
      },
      "execution_count": 128,
      "outputs": []
    },
    {
      "cell_type": "code",
      "source": [
        "len(greek)"
      ],
      "metadata": {
        "id": "LyGBh704gNUg",
        "colab": {
          "base_uri": "https://localhost:8080/"
        },
        "outputId": "29f6eae2-c56d-46f0-8b39-96133d7082d3"
      },
      "execution_count": 129,
      "outputs": [
        {
          "output_type": "execute_result",
          "data": {
            "text/plain": [
              "100000"
            ]
          },
          "metadata": {},
          "execution_count": 129
        }
      ]
    },
    {
      "cell_type": "code",
      "source": [
        "print(greek[1],\"=\",eng[1])"
      ],
      "metadata": {
        "id": "1r_BhsEw_Ewn",
        "colab": {
          "base_uri": "https://localhost:8080/"
        },
        "outputId": "58a3151f-9247-4407-93c3-2902cb46dc33"
      },
      "execution_count": 130,
      "outputs": [
        {
          "output_type": "stream",
          "name": "stdout",
          "text": [
            "- Αν εσύ... = - If you...\n"
          ]
        }
      ]
    },
    {
      "cell_type": "code",
      "source": [
        "type(greek)\n"
      ],
      "metadata": {
        "id": "vuZkJXvK_NMK",
        "colab": {
          "base_uri": "https://localhost:8080/"
        },
        "outputId": "a1c84582-0a6a-4d38-9cb8-43eee2775b13"
      },
      "execution_count": 131,
      "outputs": [
        {
          "output_type": "execute_result",
          "data": {
            "text/plain": [
              "numpy.ndarray"
            ]
          },
          "metadata": {},
          "execution_count": 131
        }
      ]
    },
    {
      "cell_type": "code",
      "source": [
        "text_vect_en=tf.keras.layers.TextVectorization(max_tokens=10000,\n",
        "                                               output_sequence_length=20,standardize='lower_and_strip_punctuation')\n",
        "text_vect_en.adapt(eng)\n",
        "\n",
        "\n",
        "text_vect_gr=tf.keras.layers.TextVectorization(max_tokens=10000,\n",
        "                                               output_sequence_length=20,standardize='lower_and_strip_punctuation')\n",
        "text_vect_gr.adapt([f'SOS {s} EOS' for s in greek])\n",
        "\n"
      ],
      "metadata": {
        "id": "xJU9l6SnAPIy"
      },
      "execution_count": 132,
      "outputs": []
    },
    {
      "cell_type": "code",
      "source": [],
      "metadata": {
        "id": "wffKloiPGO6s"
      },
      "execution_count": 132,
      "outputs": []
    },
    {
      "cell_type": "code",
      "source": [
        "text_vect_gr(greek[1])# it seems that i should use masking"
      ],
      "metadata": {
        "id": "ySTqfvoD5tgU",
        "colab": {
          "base_uri": "https://localhost:8080/"
        },
        "outputId": "1f8dfed1-52bc-45c6-eb11-95499daae7f6"
      },
      "execution_count": 133,
      "outputs": [
        {
          "output_type": "execute_result",
          "data": {
            "text/plain": [
              "<tf.Tensor: shape=(20,), dtype=int64, numpy=\n",
              "array([ 66, 104,   0,   0,   0,   0,   0,   0,   0,   0,   0,   0,   0,\n",
              "         0,   0,   0,   0,   0,   0,   0])>"
            ]
          },
          "metadata": {},
          "execution_count": 133
        }
      ]
    },
    {
      "cell_type": "code",
      "source": [
        "text_vect_en.get_vocabulary()[:5]\n"
      ],
      "metadata": {
        "id": "AGkDiyGun9H8",
        "colab": {
          "base_uri": "https://localhost:8080/"
        },
        "outputId": "fab22ebb-3e18-44cc-8ead-809d7fbe0e42"
      },
      "execution_count": 134,
      "outputs": [
        {
          "output_type": "execute_result",
          "data": {
            "text/plain": [
              "['', '[UNK]', np.str_('the'), np.str_('you'), np.str_('to')]"
            ]
          },
          "metadata": {},
          "execution_count": 134
        }
      ]
    },
    {
      "cell_type": "code",
      "source": [
        "text_vect_gr.get_vocabulary()[:5]"
      ],
      "metadata": {
        "id": "mxdowS_X_vjG",
        "colab": {
          "base_uri": "https://localhost:8080/"
        },
        "outputId": "48eeefdb-74e1-4e9c-d2a4-b9fc6724b8ce"
      },
      "execution_count": 135,
      "outputs": [
        {
          "output_type": "execute_result",
          "data": {
            "text/plain": [
              "['', '[UNK]', np.str_('sos'), np.str_('eos'), np.str_('να')]"
            ]
          },
          "metadata": {},
          "execution_count": 135
        }
      ]
    },
    {
      "cell_type": "code",
      "source": [
        "text_vect_gr.vocabulary_size()"
      ],
      "metadata": {
        "id": "OJbIhjjM__wW",
        "colab": {
          "base_uri": "https://localhost:8080/"
        },
        "outputId": "c22d8539-d061-47c0-df2d-8d65931ca6a3"
      },
      "execution_count": 136,
      "outputs": [
        {
          "output_type": "execute_result",
          "data": {
            "text/plain": [
              "10000"
            ]
          },
          "metadata": {},
          "execution_count": 136
        }
      ]
    },
    {
      "cell_type": "code",
      "source": [
        "vocab_size_en=text_vect_en.vocabulary_size()\n",
        "vocab_size_gr=text_vect_gr.vocabulary_size()"
      ],
      "metadata": {
        "id": "cqbssFLCALiG"
      },
      "execution_count": 137,
      "outputs": []
    },
    {
      "cell_type": "code",
      "source": [
        "X_train_encoder=tf.constant(eng[:80000],dtype=tf.string)\n",
        "X_valid_encoder=tf.constant(eng[80000:],dtype=tf.string)\n",
        "\n",
        "X_train_decoder=tf.constant([f\"SOS {s} \" for s in greek[:80000]],dtype=tf.string)\n",
        "X_valid_decoder=tf.constant([f\"SOS {s} \" for s in greek[80000:]],dtype=tf.string)\n",
        "\n",
        "Y_train=[f\" {s} EOS\" for s in greek[:80000]]\n",
        "Y_valid=[f\" {s} EOS\" for s in greek[80000:]]"
      ],
      "metadata": {
        "id": "oxz0o7wOAQ5p"
      },
      "execution_count": 152,
      "outputs": []
    },
    {
      "cell_type": "code",
      "source": [
        "type(X_train_decoder)"
      ],
      "metadata": {
        "id": "TxR7DsMSyc1a",
        "colab": {
          "base_uri": "https://localhost:8080/"
        },
        "outputId": "0a80a948-b3cb-41cd-b625-5cd44d962b71"
      },
      "execution_count": 139,
      "outputs": [
        {
          "output_type": "execute_result",
          "data": {
            "text/plain": [
              "tensorflow.python.framework.ops.EagerTensor"
            ]
          },
          "metadata": {},
          "execution_count": 139
        }
      ]
    },
    {
      "cell_type": "code",
      "source": [
        "text_vect_gr(X_train_decoder[1])"
      ],
      "metadata": {
        "id": "GXn3X0gVud7w",
        "colab": {
          "base_uri": "https://localhost:8080/"
        },
        "outputId": "b6c8bb62-7a4a-4670-e1af-45fc11980870"
      },
      "execution_count": 140,
      "outputs": [
        {
          "output_type": "execute_result",
          "data": {
            "text/plain": [
              "<tf.Tensor: shape=(20,), dtype=int64, numpy=\n",
              "array([  2,  66, 104,   0,   0,   0,   0,   0,   0,   0,   0,   0,   0,\n",
              "         0,   0,   0,   0,   0,   0,   0])>"
            ]
          },
          "metadata": {},
          "execution_count": 140
        }
      ]
    },
    {
      "cell_type": "code",
      "source": [
        "text_vect_gr(Y_train[1])"
      ],
      "metadata": {
        "id": "_jjqbT2bSBHp",
        "colab": {
          "base_uri": "https://localhost:8080/"
        },
        "outputId": "38e99518-4ca5-4ab2-a0b7-2d997c4f2f8d"
      },
      "execution_count": 141,
      "outputs": [
        {
          "output_type": "execute_result",
          "data": {
            "text/plain": [
              "<tf.Tensor: shape=(20,), dtype=int64, numpy=\n",
              "array([ 66, 104,   3,   0,   0,   0,   0,   0,   0,   0,   0,   0,   0,\n",
              "         0,   0,   0,   0,   0,   0,   0])>"
            ]
          },
          "metadata": {},
          "execution_count": 141
        }
      ]
    },
    {
      "cell_type": "markdown",
      "source": [
        "# Model_1"
      ],
      "metadata": {
        "id": "3fPng72i5-6F"
      }
    },
    {
      "cell_type": "code",
      "source": [
        "encoder_embedding=tf.keras.layers.Embedding(vocab_size_en,\n",
        "                                            output_dim=10,\n",
        "                                            mask_zero=True)\n",
        "decoder_embedding=tf.keras.layers.Embedding(vocab_size_gr,\n",
        "                                            output_dim=10,\n",
        "                                            mask_zero=True)"
      ],
      "metadata": {
        "id": "TCUP9gqMCJml"
      },
      "execution_count": 159,
      "outputs": []
    },
    {
      "cell_type": "code",
      "source": [
        "encoder_inputs=tf.keras.layers.Input(shape=[],dtype=tf.string)\n",
        "decoder_inputs=tf.keras.layers.Input(shape=[],dtype=tf.string)\n",
        "\n",
        "encoder_vec=text_vect_en(encoder_inputs)\n",
        "decoder_vec=text_vect_gr(decoder_inputs)\n",
        "\n",
        "encoded_emb=encoder_embedding(encoder_vec)\n",
        "decoded_emb=decoder_embedding(decoder_vec)\n",
        "\n",
        "encoder=tf.keras.layers.LSTM(128,return_state=True,return_sequences=False)\n",
        "encoder_outputs,*encoder_state=encoder(encoded_emb)\n",
        "\n",
        "\n",
        "\n",
        "decoder=tf.keras.layers.LSTM(128,return_sequences=True)\n",
        "decoder_outputs=decoder(decoded_emb,initial_state=encoder_state)\n",
        "\n",
        "output_layer=tf.keras.layers.Dense(vocab_size_gr, activation='softmax')\n",
        "Y_prob=output_layer(decoder_outputs)\n"
      ],
      "metadata": {
        "id": "iIkWAh8dEFwz"
      },
      "execution_count": 100,
      "outputs": []
    },
    {
      "cell_type": "code",
      "source": [],
      "metadata": {
        "id": "ZJ-vsAjw6OnG"
      },
      "execution_count": 100,
      "outputs": []
    },
    {
      "cell_type": "code",
      "source": [
        "Checkpoint=tf.keras.callbacks.ModelCheckpoint(\n",
        "    'model_1.keras',\n",
        "    monitor='val_loss',\n",
        "    verbose=1,\n",
        "    save_best_only=True,\n",
        "    mode='min')\n",
        "\n",
        "\n",
        "early_stop=tf.keras.callbacks.EarlyStopping(monitor='val_loss',patience=5,verbose=1,restore_best_weights=True,mode='min')\n",
        "\n",
        "model=tf.keras.Model(inputs=[encoder_inputs,decoder_inputs],outputs=[Y_prob])\n",
        "model.compile(loss=\"sparse_categorical_crossentropy\", optimizer=tf.keras.optimizers.Nadam(learning_rate=0.003),metrics=[\"accuracy\"])"
      ],
      "metadata": {
        "id": "_pWMvqhF4Vo0"
      },
      "execution_count": 101,
      "outputs": []
    },
    {
      "cell_type": "code",
      "source": [
        "Y_train_vec=text_vect_gr(Y_train)\n",
        "Y_valid_vec=text_vect_gr(Y_valid)"
      ],
      "metadata": {
        "id": "qm8sc8EJBU6G"
      },
      "execution_count": 157,
      "outputs": []
    },
    {
      "cell_type": "code",
      "source": [
        "decoder_outputs.shape"
      ],
      "metadata": {
        "id": "2xWRcOEyV03d",
        "colab": {
          "base_uri": "https://localhost:8080/"
        },
        "outputId": "2ddda9b6-cdf8-40bb-b715-9656054956e8"
      },
      "execution_count": 103,
      "outputs": [
        {
          "output_type": "execute_result",
          "data": {
            "text/plain": [
              "(None, 20, 128)"
            ]
          },
          "metadata": {},
          "execution_count": 103
        }
      ]
    },
    {
      "cell_type": "code",
      "source": [
        "encoder_outputs.shape"
      ],
      "metadata": {
        "id": "RfVl3SLa6EO9",
        "colab": {
          "base_uri": "https://localhost:8080/"
        },
        "outputId": "45aa7ccd-a95f-4e3b-d50c-62df68a6cf86"
      },
      "execution_count": 104,
      "outputs": [
        {
          "output_type": "execute_result",
          "data": {
            "text/plain": [
              "(None, 128)"
            ]
          },
          "metadata": {},
          "execution_count": 104
        }
      ]
    },
    {
      "cell_type": "code",
      "source": [
        "history_1 = model.fit((X_train_encoder, X_train_decoder), Y_train_vec,\n",
        "                      validation_data=((X_valid_encoder, X_valid_decoder), Y_valid_vec),\n",
        "                      epochs=20, callbacks=[Checkpoint,early_stop])\n"
      ],
      "metadata": {
        "id": "2X3VKxYv4yCA",
        "colab": {
          "base_uri": "https://localhost:8080/"
        },
        "outputId": "ff57747d-4a8e-4955-ffac-815af2f5dafa"
      },
      "execution_count": 105,
      "outputs": [
        {
          "output_type": "stream",
          "name": "stdout",
          "text": [
            "Epoch 1/20\n",
            "\u001b[1m1562/1563\u001b[0m \u001b[32m━━━━━━━━━━━━━━━━━━━\u001b[0m\u001b[37m━\u001b[0m \u001b[1m0s\u001b[0m 25ms/step - accuracy: 0.6963 - loss: 2.3337\n",
            "Epoch 1: val_loss improved from inf to 1.80038, saving model to model_1.keras\n",
            "\u001b[1m1563/1563\u001b[0m \u001b[32m━━━━━━━━━━━━━━━━━━━━\u001b[0m\u001b[37m\u001b[0m \u001b[1m70s\u001b[0m 43ms/step - accuracy: 0.6964 - loss: 2.3333 - val_accuracy: 0.7297 - val_loss: 1.8004\n",
            "Epoch 2/20\n",
            "\u001b[1m1561/1563\u001b[0m \u001b[32m━━━━━━━━━━━━━━━━━━━\u001b[0m\u001b[37m━\u001b[0m \u001b[1m0s\u001b[0m 26ms/step - accuracy: 0.7319 - loss: 1.7448\n",
            "Epoch 2: val_loss improved from 1.80038 to 1.66770, saving model to model_1.keras\n",
            "\u001b[1m1563/1563\u001b[0m \u001b[32m━━━━━━━━━━━━━━━━━━━━\u001b[0m\u001b[37m\u001b[0m \u001b[1m96s\u001b[0m 52ms/step - accuracy: 0.7319 - loss: 1.7447 - val_accuracy: 0.7397 - val_loss: 1.6677\n",
            "Epoch 3/20\n",
            "\u001b[1m1563/1563\u001b[0m \u001b[32m━━━━━━━━━━━━━━━━━━━━\u001b[0m\u001b[37m\u001b[0m \u001b[1m0s\u001b[0m 25ms/step - accuracy: 0.7420 - loss: 1.5976\n",
            "Epoch 3: val_loss improved from 1.66770 to 1.59261, saving model to model_1.keras\n",
            "\u001b[1m1563/1563\u001b[0m \u001b[32m━━━━━━━━━━━━━━━━━━━━\u001b[0m\u001b[37m\u001b[0m \u001b[1m141s\u001b[0m 52ms/step - accuracy: 0.7420 - loss: 1.5976 - val_accuracy: 0.7468 - val_loss: 1.5926\n",
            "Epoch 4/20\n",
            "\u001b[1m1563/1563\u001b[0m \u001b[32m━━━━━━━━━━━━━━━━━━━━\u001b[0m\u001b[37m\u001b[0m \u001b[1m0s\u001b[0m 25ms/step - accuracy: 0.7488 - loss: 1.4860\n",
            "Epoch 4: val_loss improved from 1.59261 to 1.55579, saving model to model_1.keras\n",
            "\u001b[1m1563/1563\u001b[0m \u001b[32m━━━━━━━━━━━━━━━━━━━━\u001b[0m\u001b[37m\u001b[0m \u001b[1m82s\u001b[0m 52ms/step - accuracy: 0.7488 - loss: 1.4859 - val_accuracy: 0.7503 - val_loss: 1.5558\n",
            "Epoch 5/20\n",
            "\u001b[1m1562/1563\u001b[0m \u001b[32m━━━━━━━━━━━━━━━━━━━\u001b[0m\u001b[37m━\u001b[0m \u001b[1m0s\u001b[0m 25ms/step - accuracy: 0.7556 - loss: 1.3872\n",
            "Epoch 5: val_loss improved from 1.55579 to 1.54092, saving model to model_1.keras\n",
            "\u001b[1m1563/1563\u001b[0m \u001b[32m━━━━━━━━━━━━━━━━━━━━\u001b[0m\u001b[37m\u001b[0m \u001b[1m68s\u001b[0m 43ms/step - accuracy: 0.7556 - loss: 1.3872 - val_accuracy: 0.7525 - val_loss: 1.5409\n",
            "Epoch 6/20\n",
            "\u001b[1m1563/1563\u001b[0m \u001b[32m━━━━━━━━━━━━━━━━━━━━\u001b[0m\u001b[37m\u001b[0m \u001b[1m0s\u001b[0m 25ms/step - accuracy: 0.7568 - loss: 1.3269\n",
            "Epoch 6: val_loss did not improve from 1.54092\n",
            "\u001b[1m1563/1563\u001b[0m \u001b[32m━━━━━━━━━━━━━━━━━━━━\u001b[0m\u001b[37m\u001b[0m \u001b[1m82s\u001b[0m 43ms/step - accuracy: 0.7568 - loss: 1.3269 - val_accuracy: 0.7541 - val_loss: 1.5442\n",
            "Epoch 7/20\n",
            "\u001b[1m1563/1563\u001b[0m \u001b[32m━━━━━━━━━━━━━━━━━━━━\u001b[0m\u001b[37m\u001b[0m \u001b[1m0s\u001b[0m 25ms/step - accuracy: 0.7643 - loss: 1.2420\n",
            "Epoch 7: val_loss did not improve from 1.54092\n",
            "\u001b[1m1563/1563\u001b[0m \u001b[32m━━━━━━━━━━━━━━━━━━━━\u001b[0m\u001b[37m\u001b[0m \u001b[1m81s\u001b[0m 52ms/step - accuracy: 0.7643 - loss: 1.2420 - val_accuracy: 0.7544 - val_loss: 1.5574\n",
            "Epoch 8/20\n",
            "\u001b[1m1562/1563\u001b[0m \u001b[32m━━━━━━━━━━━━━━━━━━━\u001b[0m\u001b[37m━\u001b[0m \u001b[1m0s\u001b[0m 26ms/step - accuracy: 0.7648 - loss: 1.2001\n",
            "Epoch 8: val_loss did not improve from 1.54092\n",
            "\u001b[1m1563/1563\u001b[0m \u001b[32m━━━━━━━━━━━━━━━━━━━━\u001b[0m\u001b[37m\u001b[0m \u001b[1m83s\u001b[0m 52ms/step - accuracy: 0.7648 - loss: 1.2001 - val_accuracy: 0.7544 - val_loss: 1.5817\n",
            "Epoch 9/20\n",
            "\u001b[1m1562/1563\u001b[0m \u001b[32m━━━━━━━━━━━━━━━━━━━\u001b[0m\u001b[37m━\u001b[0m \u001b[1m0s\u001b[0m 26ms/step - accuracy: 0.7701 - loss: 1.1456\n",
            "Epoch 9: val_loss did not improve from 1.54092\n",
            "\u001b[1m1563/1563\u001b[0m \u001b[32m━━━━━━━━━━━━━━━━━━━━\u001b[0m\u001b[37m\u001b[0m \u001b[1m82s\u001b[0m 52ms/step - accuracy: 0.7701 - loss: 1.1456 - val_accuracy: 0.7539 - val_loss: 1.6071\n",
            "Epoch 10/20\n",
            "\u001b[1m1563/1563\u001b[0m \u001b[32m━━━━━━━━━━━━━━━━━━━━\u001b[0m\u001b[37m\u001b[0m \u001b[1m0s\u001b[0m 25ms/step - accuracy: 0.7749 - loss: 1.0992\n",
            "Epoch 10: val_loss did not improve from 1.54092\n",
            "\u001b[1m1563/1563\u001b[0m \u001b[32m━━━━━━━━━━━━━━━━━━━━\u001b[0m\u001b[37m\u001b[0m \u001b[1m141s\u001b[0m 52ms/step - accuracy: 0.7749 - loss: 1.0992 - val_accuracy: 0.7539 - val_loss: 1.6351\n",
            "Epoch 10: early stopping\n",
            "Restoring model weights from the end of the best epoch: 5.\n"
          ]
        }
      ]
    },
    {
      "cell_type": "code",
      "source": [
        "fig,axes=plt.subplots(1,2,figsize=(15,5))\n",
        "\n",
        "axes[0].plot(history_1.history['loss'],label='Train Loss')\n",
        "axes[0].plot(history_1.history['val_loss'],label='Validation Loss')\n",
        "axes[0].set_xlabel('Epoch')\n",
        "axes[0].set_ylabel('Loss')\n",
        "axes[0].legend()\n",
        "\n",
        "axes[1].plot(history_1.history['accuracy'],label='Train Accuracy')\n",
        "axes[1].plot(history_1.history['val_accuracy'],label='Validation Accuracy')\n",
        "axes[1].set_xlabel('Epoch')\n",
        "axes[1].set_ylabel('Accuracy')\n",
        "axes[1].legend()\n",
        "\n",
        "plt.tight_layout()"
      ],
      "metadata": {
        "colab": {
          "base_uri": "https://localhost:8080/",
          "height": 440
        },
        "id": "GD4lTV9RRjc6",
        "outputId": "1948150c-b565-4007-f96f-91ebaa5b192c"
      },
      "execution_count": 106,
      "outputs": [
        {
          "output_type": "display_data",
          "data": {
            "text/plain": [
              "<Figure size 1500x500 with 2 Axes>"
            ],
            "image/png": "[encoded data removed]"
          },
          "metadata": {}
        }
      ]
    },
    {
      "cell_type": "code",
      "source": [],
      "metadata": {
        "id": "GJzgpGL5Hpua"
      },
      "execution_count": 106,
      "outputs": []
    },
    {
      "cell_type": "markdown",
      "source": [
        "# Translate With Attention Layer"
      ],
      "metadata": {
        "id": "hRdWkF4a3U4A"
      }
    },
    {
      "cell_type": "code",
      "source": [
        "encoder_inputs=tf.keras.layers.Input(shape=[],dtype=tf.string)\n",
        "decoder_inputs=tf.keras.layers.Input(shape=[],dtype=tf.string)\n",
        "\n",
        "encoder_vec=text_vect_en(encoder_inputs)\n",
        "decoder_vec=text_vect_gr(decoder_inputs)\n",
        "\n",
        "encoded_emb=encoder_embedding(encoder_vec)\n",
        "decoded_emb=decoder_embedding(decoder_vec)\n",
        "\n",
        "encoder=tf.keras.layers.LSTM(128,return_state=True,return_sequences=True)\n",
        "encoder_outputs,*encoder_state=encoder(encoded_emb)\n",
        "\n",
        "\n",
        "\n",
        "decoder=tf.keras.layers.LSTM(128,return_sequences=True)\n",
        "decoder_outputs=decoder(decoded_emb,initial_state=encoder_state)\n",
        "\n",
        "attention_layer = tf.keras.layers.Attention()\n",
        "attention_outputs = attention_layer([decoder_outputs, encoder_outputs])\n",
        "output_layer = tf.keras.layers.Dense(vocab_size_gr, activation=\"softmax\")\n",
        "Y_proba = output_layer(attention_outputs)"
      ],
      "metadata": {
        "id": "HCMjLFa82_dN"
      },
      "execution_count": 154,
      "outputs": []
    },
    {
      "cell_type": "code",
      "source": [
        "Checkpoint=tf.keras.callbacks.ModelCheckpoint(\n",
        "    'model_2.keras',\n",
        "    monitor='val_loss',\n",
        "    verbose=1,\n",
        "    save_best_only=True,\n",
        "    mode='min')\n",
        "\n",
        "\n",
        "early_stop=tf.keras.callbacks.EarlyStopping(monitor='val_loss',patience=5,verbose=1,restore_best_weights=True,mode='min')\n",
        "\n",
        "model=tf.keras.Model(inputs=[encoder_inputs,decoder_inputs],outputs=[Y_proba])\n",
        "model.compile(loss=\"sparse_categorical_crossentropy\", optimizer=tf.keras.optimizers.Nadam(learning_rate=0.003),metrics=[\"accuracy\"])"
      ],
      "metadata": {
        "id": "E2myLvGE3lU0"
      },
      "execution_count": 155,
      "outputs": []
    },
    {
      "cell_type": "code",
      "source": [
        "history_2 = model.fit((X_train_encoder, X_train_decoder), Y_train_vec,\n",
        "                      validation_data=((X_valid_encoder, X_valid_decoder), Y_valid_vec),\n",
        "                      epochs=20, callbacks=[Checkpoint,early_stop])"
      ],
      "metadata": {
        "colab": {
          "base_uri": "https://localhost:8080/"
        },
        "id": "CWg-ODaB3hJz",
        "outputId": "bb6ff02d-6a51-4e5b-e3b1-ee31895e5fff"
      },
      "execution_count": 160,
      "outputs": [
        {
          "output_type": "stream",
          "name": "stdout",
          "text": [
            "Epoch 1/20\n",
            "\u001b[1m2500/2500\u001b[0m \u001b[32m━━━━━━━━━━━━━━━━━━━━\u001b[0m\u001b[37m\u001b[0m \u001b[1m0s\u001b[0m 25ms/step - accuracy: 0.7224 - loss: 1.9483\n",
            "Epoch 1: val_loss improved from inf to 1.76687, saving model to model_2.keras\n",
            "\u001b[1m2500/2500\u001b[0m \u001b[32m━━━━━━━━━━━━━━━━━━━━\u001b[0m\u001b[37m\u001b[0m \u001b[1m85s\u001b[0m 34ms/step - accuracy: 0.7224 - loss: 1.9483 - val_accuracy: 0.7301 - val_loss: 1.7669\n",
            "Epoch 2/20\n",
            "\u001b[1m2500/2500\u001b[0m \u001b[32m━━━━━━━━━━━━━━━━━━━━\u001b[0m\u001b[37m\u001b[0m \u001b[1m0s\u001b[0m 26ms/step - accuracy: 0.7412 - loss: 1.6665\n",
            "Epoch 2: val_loss improved from 1.76687 to 1.64180, saving model to model_2.keras\n",
            "\u001b[1m2500/2500\u001b[0m \u001b[32m━━━━━━━━━━━━━━━━━━━━\u001b[0m\u001b[37m\u001b[0m \u001b[1m142s\u001b[0m 34ms/step - accuracy: 0.7412 - loss: 1.6665 - val_accuracy: 0.7415 - val_loss: 1.6418\n",
            "Epoch 3/20\n",
            "\u001b[1m2500/2500\u001b[0m \u001b[32m━━━━━━━━━━━━━━━━━━━━\u001b[0m\u001b[37m\u001b[0m \u001b[1m0s\u001b[0m 25ms/step - accuracy: 0.7485 - loss: 1.5443\n",
            "Epoch 3: val_loss improved from 1.64180 to 1.57736, saving model to model_2.keras\n",
            "\u001b[1m2500/2500\u001b[0m \u001b[32m━━━━━━━━━━━━━━━━━━━━\u001b[0m\u001b[37m\u001b[0m \u001b[1m140s\u001b[0m 33ms/step - accuracy: 0.7485 - loss: 1.5443 - val_accuracy: 0.7452 - val_loss: 1.5774\n",
            "Epoch 4/20\n",
            "\u001b[1m2500/2500\u001b[0m \u001b[32m━━━━━━━━━━━━━━━━━━━━\u001b[0m\u001b[37m\u001b[0m \u001b[1m0s\u001b[0m 25ms/step - accuracy: 0.7529 - loss: 1.4634\n",
            "Epoch 4: val_loss improved from 1.57736 to 1.54733, saving model to model_2.keras\n",
            "\u001b[1m2500/2500\u001b[0m \u001b[32m━━━━━━━━━━━━━━━━━━━━\u001b[0m\u001b[37m\u001b[0m \u001b[1m131s\u001b[0m 29ms/step - accuracy: 0.7529 - loss: 1.4634 - val_accuracy: 0.7470 - val_loss: 1.5473\n",
            "Epoch 5/20\n",
            "\u001b[1m2499/2500\u001b[0m \u001b[32m━━━━━━━━━━━━━━━━━━━\u001b[0m\u001b[37m━\u001b[0m \u001b[1m0s\u001b[0m 25ms/step - accuracy: 0.7582 - loss: 1.3952\n",
            "Epoch 5: val_loss improved from 1.54733 to 1.53975, saving model to model_2.keras\n",
            "\u001b[1m2500/2500\u001b[0m \u001b[32m━━━━━━━━━━━━━━━━━━━━\u001b[0m\u001b[37m\u001b[0m \u001b[1m73s\u001b[0m 29ms/step - accuracy: 0.7582 - loss: 1.3952 - val_accuracy: 0.7472 - val_loss: 1.5398\n",
            "Epoch 6/20\n",
            "\u001b[1m2499/2500\u001b[0m \u001b[32m━━━━━━━━━━━━━━━━━━━\u001b[0m\u001b[37m━\u001b[0m \u001b[1m0s\u001b[0m 25ms/step - accuracy: 0.7590 - loss: 1.3713\n",
            "Epoch 6: val_loss improved from 1.53975 to 1.52241, saving model to model_2.keras\n",
            "\u001b[1m2500/2500\u001b[0m \u001b[32m━━━━━━━━━━━━━━━━━━━━\u001b[0m\u001b[37m\u001b[0m \u001b[1m92s\u001b[0m 33ms/step - accuracy: 0.7590 - loss: 1.3713 - val_accuracy: 0.7490 - val_loss: 1.5224\n",
            "Epoch 7/20\n",
            "\u001b[1m2499/2500\u001b[0m \u001b[32m━━━━━━━━━━━━━━━━━━━\u001b[0m\u001b[37m━\u001b[0m \u001b[1m0s\u001b[0m 25ms/step - accuracy: 0.7590 - loss: 1.3520\n",
            "Epoch 7: val_loss improved from 1.52241 to 1.50923, saving model to model_2.keras\n",
            "\u001b[1m2500/2500\u001b[0m \u001b[32m━━━━━━━━━━━━━━━━━━━━\u001b[0m\u001b[37m\u001b[0m \u001b[1m132s\u001b[0m 29ms/step - accuracy: 0.7590 - loss: 1.3520 - val_accuracy: 0.7508 - val_loss: 1.5092\n",
            "Epoch 8/20\n",
            "\u001b[1m2498/2500\u001b[0m \u001b[32m━━━━━━━━━━━━━━━━━━━\u001b[0m\u001b[37m━\u001b[0m \u001b[1m0s\u001b[0m 25ms/step - accuracy: 0.7626 - loss: 1.3081\n",
            "Epoch 8: val_loss did not improve from 1.50923\n",
            "\u001b[1m2500/2500\u001b[0m \u001b[32m━━━━━━━━━━━━━━━━━━━━\u001b[0m\u001b[37m\u001b[0m \u001b[1m82s\u001b[0m 29ms/step - accuracy: 0.7626 - loss: 1.3081 - val_accuracy: 0.7491 - val_loss: 1.5206\n",
            "Epoch 9/20\n",
            "\u001b[1m2500/2500\u001b[0m \u001b[32m━━━━━━━━━━━━━━━━━━━━\u001b[0m\u001b[37m\u001b[0m \u001b[1m0s\u001b[0m 25ms/step - accuracy: 0.7632 - loss: 1.2970\n",
            "Epoch 9: val_loss improved from 1.50923 to 1.49443, saving model to model_2.keras\n",
            "\u001b[1m2500/2500\u001b[0m \u001b[32m━━━━━━━━━━━━━━━━━━━━\u001b[0m\u001b[37m\u001b[0m \u001b[1m82s\u001b[0m 29ms/step - accuracy: 0.7632 - loss: 1.2970 - val_accuracy: 0.7526 - val_loss: 1.4944\n",
            "Epoch 10/20\n",
            "\u001b[1m2499/2500\u001b[0m \u001b[32m━━━━━━━━━━━━━━━━━━━\u001b[0m\u001b[37m━\u001b[0m \u001b[1m0s\u001b[0m 25ms/step - accuracy: 0.7666 - loss: 1.2571\n",
            "Epoch 10: val_loss did not improve from 1.49443\n",
            "\u001b[1m2500/2500\u001b[0m \u001b[32m━━━━━━━━━━━━━━━━━━━━\u001b[0m\u001b[37m\u001b[0m \u001b[1m81s\u001b[0m 29ms/step - accuracy: 0.7666 - loss: 1.2571 - val_accuracy: 0.7498 - val_loss: 1.5165\n",
            "Epoch 11/20\n",
            "\u001b[1m2499/2500\u001b[0m \u001b[32m━━━━━━━━━━━━━━━━━━━\u001b[0m\u001b[37m━\u001b[0m \u001b[1m0s\u001b[0m 25ms/step - accuracy: 0.7635 - loss: 1.2798\n",
            "Epoch 11: val_loss did not improve from 1.49443\n",
            "\u001b[1m2500/2500\u001b[0m \u001b[32m━━━━━━━━━━━━━━━━━━━━\u001b[0m\u001b[37m\u001b[0m \u001b[1m93s\u001b[0m 33ms/step - accuracy: 0.7635 - loss: 1.2798 - val_accuracy: 0.7516 - val_loss: 1.5064\n",
            "Epoch 12/20\n",
            "\u001b[1m2500/2500\u001b[0m \u001b[32m━━━━━━━━━━━━━━━━━━━━\u001b[0m\u001b[37m\u001b[0m \u001b[1m0s\u001b[0m 25ms/step - accuracy: 0.7687 - loss: 1.2278\n",
            "Epoch 12: val_loss did not improve from 1.49443\n",
            "\u001b[1m2500/2500\u001b[0m \u001b[32m━━━━━━━━━━━━━━━━━━━━\u001b[0m\u001b[37m\u001b[0m \u001b[1m131s\u001b[0m 29ms/step - accuracy: 0.7687 - loss: 1.2278 - val_accuracy: 0.7507 - val_loss: 1.5156\n",
            "Epoch 13/20\n",
            "\u001b[1m2500/2500\u001b[0m \u001b[32m━━━━━━━━━━━━━━━━━━━━\u001b[0m\u001b[37m\u001b[0m \u001b[1m0s\u001b[0m 25ms/step - accuracy: 0.7672 - loss: 1.2313\n",
            "Epoch 13: val_loss did not improve from 1.49443\n",
            "\u001b[1m2500/2500\u001b[0m \u001b[32m━━━━━━━━━━━━━━━━━━━━\u001b[0m\u001b[37m\u001b[0m \u001b[1m81s\u001b[0m 29ms/step - accuracy: 0.7672 - loss: 1.2313 - val_accuracy: 0.7527 - val_loss: 1.5018\n",
            "Epoch 14/20\n",
            "\u001b[1m2499/2500\u001b[0m \u001b[32m━━━━━━━━━━━━━━━━━━━\u001b[0m\u001b[37m━\u001b[0m \u001b[1m0s\u001b[0m 25ms/step - accuracy: 0.7712 - loss: 1.1941\n",
            "Epoch 14: val_loss did not improve from 1.49443\n",
            "\u001b[1m2500/2500\u001b[0m \u001b[32m━━━━━━━━━━━━━━━━━━━━\u001b[0m\u001b[37m\u001b[0m \u001b[1m83s\u001b[0m 29ms/step - accuracy: 0.7712 - loss: 1.1941 - val_accuracy: 0.7502 - val_loss: 1.5220\n",
            "Epoch 14: early stopping\n",
            "Restoring model weights from the end of the best epoch: 9.\n"
          ]
        }
      ]
    }
  ]
}